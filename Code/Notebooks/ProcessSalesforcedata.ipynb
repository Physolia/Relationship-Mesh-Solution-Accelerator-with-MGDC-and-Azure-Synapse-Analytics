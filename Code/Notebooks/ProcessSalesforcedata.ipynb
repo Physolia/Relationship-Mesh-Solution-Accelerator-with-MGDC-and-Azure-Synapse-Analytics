{
  "cells": [
    {
      "cell_type": "code",
      "source": [
        "from pyspark.sql.functions import col, when"
      ],
      "outputs": [],
      "execution_count": null,
      "metadata": {
        "jupyter": {
          "source_hidden": false,
          "outputs_hidden": false
        },
        "nteract": {
          "transient": {
            "deleting": false
          }
        }
      }
    },
    {
      "cell_type": "code",
      "source": [
        "data_lake_account_name = '' # Synapse Workspace ADLS\r\n",
        "file_system_name = 'relmeshadlsfs'"
      ],
      "outputs": [],
      "execution_count": null,
      "metadata": {
        "jupyter": {
          "source_hidden": false,
          "outputs_hidden": false
        },
        "nteract": {
          "transient": {
            "deleting": false
          }
        },
        "tags": [
          "parameters"
        ]
      }
    },
    {
      "cell_type": "code",
      "source": [
        "sf_accounts_path = f'abfss://{file_system_name}@{data_lake_account_name}.dfs.core.windows.net/createdsfdata/accounts_sf.csv'\r\n",
        "mapping_file = f'abfss://{file_system_name}@{data_lake_account_name}.dfs.core.windows.net/columnmappinngs/Account_Column_Mapping_SF.csv'\r\n",
        "\r\n",
        "df_account_sf = spark.read.load(sf_accounts_path, format='csv',header=True)\r\n",
        "df_acc_map_sf = spark.read.load(mapping_file, format='csv',header=True).toPandas()\r\n",
        "\r\n",
        "col_map = dict(zip(df_acc_map_sf.SFColumn, df_acc_map_sf.SAColumn))\r\n",
        "\r\n",
        "df_account_sf = df_account_sf.select(*[col(k).alias(col_map[k]) for k in col_map])\r\n",
        "\r\n",
        "sa_acc_cols = ['Id','Name','DomainName','ParentAccount','PrimaryContact','Industry','Sector','TransactionSize','Tier','Type']\r\n",
        "df_account_sf = df_account_sf.select(*sa_acc_cols)\r\n",
        "#display(df_account_sf.head(2))"
      ],
      "outputs": [],
      "execution_count": null,
      "metadata": {
        "jupyter": {
          "source_hidden": false,
          "outputs_hidden": false
        },
        "nteract": {
          "transient": {
            "deleting": false
          }
        },
        "microsoft": {},
        "collapsed": false
      }
    },
    {
      "cell_type": "code",
      "source": [
        "sf_contacts_path = f'abfss://{file_system_name}@{data_lake_account_name}.dfs.core.windows.net/createdsfdata/contacts_sf.csv'\r\n",
        "mapping_file = f'abfss://{file_system_name}@{data_lake_account_name}.dfs.core.windows.net/columnmappinngs/Contact_Column_Mapping_SF.csv'\r\n",
        "\r\n",
        "df_contact_sf = spark.read.load(sf_contacts_path, format='csv',header=True)\r\n",
        "df_contact_map_sf = spark.read.load(mapping_file, format='csv',header=True).toPandas()\r\n",
        "\r\n",
        "col_map = dict(zip(df_contact_map_sf.SFColumn, df_contact_map_sf.SAColumn))\r\n",
        "\r\n",
        "df_contact_sf = df_contact_sf.select(*[col(k).alias(col_map[k]) for k in col_map])\r\n",
        "\r\n",
        "sa_contact_cols = ['Id','AccountId','FirstName','LastName','Name','Email','Title','ContactType__c']\r\n",
        "df_contact_sf = df_contact_sf.select(*sa_contact_cols)\r\n",
        "# display(df_contact_sf.head(2))"
      ],
      "outputs": [],
      "execution_count": null,
      "metadata": {
        "jupyter": {
          "source_hidden": false,
          "outputs_hidden": false
        },
        "nteract": {
          "transient": {
            "deleting": false
          }
        },
        "collapsed": false
      }
    },
    {
      "cell_type": "code",
      "source": [
        "df_acc = df_account_sf.filter(df_account_sf.Type == 'Account').select('Id','Name','DomainName','ParentAccount','PrimaryContact','Industry','Sector','TransactionSize','Tier')\r\n",
        "df_parent_acc = df_account_sf.filter(df_account_sf.Type == 'ParentAccount').select('Id','Name','DomainName')\r\n",
        "df_acc.write.mode(\"overwrite\").saveAsTable(\"account\")\r\n",
        "df_parent_acc.write.mode(\"overwrite\").saveAsTable(\"parentaccount\")"
      ],
      "outputs": [],
      "execution_count": null,
      "metadata": {
        "jupyter": {
          "source_hidden": false,
          "outputs_hidden": false
        },
        "nteract": {
          "transient": {
            "deleting": false
          }
        },
        "collapsed": false
      }
    },
    {
      "cell_type": "code",
      "source": [
        "df_contact = df_contact_sf.filter(df_contact_sf.ContactType__c == 'Contact').select('Id','AccountId','FirstName','LastName','Name','Email','Title')\r\n",
        "df_employee = df_contact_sf.filter(df_contact_sf.ContactType__c == 'Employee').select('Id','FirstName','LastName','Name','Email','Title')\r\n",
        "\r\n",
        "df_contact = df_contact.withColumn('Exec_Flag', \\\r\n",
        "    when((col(\"Title\") == 'CEO') | (col(\"Title\") == 'CTO') | (col(\"Title\") == 'CIO') | (col(\"Title\") == 'CFO'), 1) \\\r\n",
        "    .otherwise(0)\r\n",
        ")\r\n",
        "\r\n",
        "df_contact.write.mode(\"overwrite\").saveAsTable(\"contact\")\r\n",
        "df_employee.write.mode(\"overwrite\").saveAsTable(\"employee\")"
      ],
      "outputs": [],
      "execution_count": null,
      "metadata": {
        "jupyter": {
          "source_hidden": false,
          "outputs_hidden": false
        },
        "nteract": {
          "transient": {
            "deleting": false
          }
        },
        "collapsed": false
      }
    },
    {
      "cell_type": "code",
      "source": [
        "sql_stmt = '''\r\n",
        "    Select c.AccountId as Account_Id, a.Name as Account_Name,\r\n",
        "    a.PrimaryContact as Account_Primary_Caller__c, 'Q1' as Account_Timing_Quarter__c, \r\n",
        "    '2021' as Account_Timing__c, 'Tier1' as Account_Industry_Tier__c,\r\n",
        "    a.Industry, a.Sector,\r\n",
        "    c.Id as Contact_Id, c.FirstName, c.LastName, c.Name as Full_Name__c,Title, lower(Email) as Email,\r\n",
        "    0 as IsBoardMember, Exec_Flag as IsExec\r\n",
        "    from account as a \r\n",
        "    inner join contact as c on a.Id = c.AccountId\r\n",
        "    where Email is not null\r\n",
        "'''\r\n",
        "df = spark.sql(sql_stmt)\r\n",
        "df.write.mode(\"overwrite\").saveAsTable(\"SellersExtContacts\")"
      ],
      "outputs": [],
      "execution_count": null,
      "metadata": {
        "jupyter": {
          "source_hidden": false,
          "outputs_hidden": false
        },
        "nteract": {
          "transient": {
            "deleting": false
          }
        }
      }
    },
    {
      "cell_type": "code",
      "source": [
        "sql_stmt = '''\r\n",
        "SELECT Contact_Id, Full_Name__c, Title,IsBoardMember,IsExec\r\n",
        "from SellersExtContacts\r\n",
        "where Account_Id is not null\r\n",
        "'''\r\n",
        "\r\n",
        "df = spark.sql(sql_stmt)\r\n",
        "df.write.mode(\"overwrite\").saveAsTable(\"ExtContacts\")"
      ],
      "outputs": [],
      "execution_count": null,
      "metadata": {
        "jupyter": {
          "source_hidden": false,
          "outputs_hidden": false
        },
        "nteract": {
          "transient": {
            "deleting": false
          }
        }
      }
    },
    {
      "cell_type": "code",
      "source": [
        "sql_stmt = '''select  a.Id as Account_Id, PrimaryContact as Contact_Id,\r\n",
        "            c.Name as Full_Name__c, lower(Email) as Email\r\n",
        "            FROM Account as a \r\n",
        "            inner join Employee as c on a.PrimaryContact = c.Id'''\r\n",
        "\r\n",
        "df_primarycallers = spark.sql(sql_stmt)\r\n",
        "df_primarycallers.write.mode(\"overwrite\").saveAsTable(\"PrimaryCallers\")"
      ],
      "outputs": [],
      "execution_count": null,
      "metadata": {
        "jupyter": {
          "source_hidden": false,
          "outputs_hidden": false
        },
        "nteract": {
          "transient": {
            "deleting": false
          }
        }
      }
    },
    {
      "cell_type": "code",
      "source": [
        "#HPTs list\r\n",
        "sql_stmt = '''SELECT a.Id,Name,Industry,Sector,'Tier1' as Industry_Tier__c,'2021' as Timing__c, 'Q1' as Timing_Quarter__c,\r\n",
        "            '10000' as Est_Transaction_Size__c,\r\n",
        "\t\t\tp.Contact_Id as Primary_Caller_Id,p.Full_Name__C as Primary_Caller\r\n",
        "\t\t\tFROM Account as a \r\n",
        "\t\t\tinner join PrimaryCallers as p on p.Account_Id = a.Id'''\r\n",
        "\r\n",
        "df_netgraphAccounts = spark.sql(sql_stmt)\r\n",
        "df_netgraphAccounts.write.mode(\"overwrite\").saveAsTable(\"HighPriorityTargets\")"
      ],
      "outputs": [],
      "execution_count": null,
      "metadata": {
        "jupyter": {
          "source_hidden": false,
          "outputs_hidden": false
        },
        "nteract": {
          "transient": {
            "deleting": false
          }
        }
      }
    }
  ],
  "metadata": {
    "kernelspec": {
      "name": "synapse_pyspark",
      "display_name": "Synapse PySpark"
    },
    "language_info": {
      "name": "python"
    },
    "description": null,
    "save_output": true,
    "synapse_widget": {
      "version": "0.1",
      "state": {}
    }
  },
  "nbformat": 4,
  "nbformat_minor": 2
}