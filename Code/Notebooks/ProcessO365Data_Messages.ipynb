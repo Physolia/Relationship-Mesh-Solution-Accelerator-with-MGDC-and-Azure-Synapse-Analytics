{
  "cells": [
    {
      "cell_type": "markdown",
      "source": [
        "Copyright (c) Microsoft Corporation.\r\n",
        "\r\n",
        "Licensed under the MIT License."
      ],
      "metadata": {
        "nteract": {
          "transient": {
            "deleting": false
          }
        }
      }
    },
    {
      "cell_type": "code",
      "source": [
        "data_lake_account_name = '' # Synapse Workspace ADLS\n",
        "file_system_name = ''"
      ],
      "outputs": [],
      "execution_count": null,
      "metadata": {
        "jupyter": {
          "outputs_hidden": false,
          "source_hidden": false
        },
        "nteract": {
          "transient": {
            "deleting": false
          }
        },
        "tags": [
          "parameters"
        ]
      }
    },
    {
      "cell_type": "code",
      "source": [
        "inputFolderPath = '2021/11/2/2021-11-02T03:55:08'\n",
        "initialLoad = True"
      ],
      "outputs": [],
      "execution_count": null,
      "metadata": {
        "jupyter": {
          "outputs_hidden": false,
          "source_hidden": false
        },
        "nteract": {
          "transient": {
            "deleting": false
          }
        },
        "tags": []
      }
    },
    {
      "cell_type": "code",
      "source": [
        "if initialLoad == True:\n",
        "    spark.sql('drop table if exists messages_temp')\n",
        "    spark.sql('drop table if exists messagesdata') "
      ],
      "outputs": [],
      "execution_count": null,
      "metadata": {
        "jupyter": {
          "outputs_hidden": false,
          "source_hidden": false
        },
        "nteract": {
          "transient": {
            "deleting": false
          }
        }
      }
    },
    {
      "cell_type": "code",
      "source": [
        "from pyspark.sql.functions import *\n",
        "from pyspark.sql.types import *\n",
        "\n",
        "def load_messages_json_file(messagesPath):\n",
        "    messages_df= spark.read.load(messagesPath, format='json')\n",
        "    messages_df = messages_df.select(\"Id\",\"ConversationId\",\"Subject\",\"SentDateTime\",\"Sender\",\"ToRecipients\",\"CcRecipients\",\"BccRecipients\")\n",
        "\n",
        "    df = messages_df.select('*',size('ToRecipients').alias('ToRecipients_cnt'),size('CcRecipients').alias('CcRecipients_cnt'),size('BccRecipients').alias('BccRecipients_cnt')) \\\n",
        "                    .select(explode(col(\"ToRecipients\")).alias(\"ToRecipients\"),\"Id\",\"ConversationId\",\"Subject\",\"SentDateTime\",\"Sender\",\"ToRecipients_cnt\",\"CcRecipients_cnt\",\"BccRecipients_cnt\") \\\n",
        "                    .select([\"Id\",\"ConversationId\",\"Subject\",\"SentDateTime\",\"ToRecipients_cnt\",\"CcRecipients_cnt\",\"BccRecipients_cnt\",col(\"Sender.EmailAddress.Address\").alias(\"Sender\"),\n",
        "                            col(\"ToRecipients.EmailAddress.Address\").alias(\"Recipient\")]) \\\n",
        "                    .withColumn(\"RType\", lit('To')) \\\n",
        "                    .withColumn(\"LoadFolderPath\", lit(inputFolderPath))\n",
        "    try:\n",
        "        df = df.union(messages_df.select('*',size('ToRecipients').alias('ToRecipients_cnt'),size('CcRecipients').alias('CcRecipients_cnt'),size('BccRecipients').alias('BccRecipients_cnt')) \\\n",
        "                        .select(explode(col(\"CcRecipients\")).alias(\"CcRecipients\"),\"Id\",\"ConversationId\",\"Subject\",\"SentDateTime\",\"Sender\",\"ToRecipients_cnt\",\"CcRecipients_cnt\",\"BccRecipients_cnt\") \\\n",
        "                        .select([\"Id\",\"ConversationId\",\"Subject\",\"SentDateTime\",\"ToRecipients_cnt\",\"CcRecipients_cnt\",\"BccRecipients_cnt\",col(\"Sender.EmailAddress.Address\").alias(\"Sender\"),\n",
        "                                col(\"CcRecipients.EmailAddress.Address\").alias(\"Recipient\")]) \\\n",
        "                        .withColumn(\"RType\", lit('Cc')) \\\n",
        "                        .withColumn(\"LoadFolderPath\", lit(inputFolderPath)) \\\n",
        "                        )\n",
        "    except:\n",
        "        pass \n",
        "    try:\n",
        "        df = df.union(messages_df.select('*',size('ToRecipients').alias('ToRecipients_cnt'),size('CcRecipients').alias('CcRecipients_cnt'),size('BccRecipients').alias('BccRecipients_cnt')) \\\n",
        "                        .select(explode(col(\"BccRecipients\")).alias(\"BccRecipients\"),\"Id\",\"ConversationId\",\"Subject\",\"SentDateTime\",\"Sender\",\"ToRecipients_cnt\",\"CcRecipients_cnt\",\"BccRecipients_cnt\") \\\n",
        "                        .select([\"Id\",\"ConversationId\",\"Subject\",\"SentDateTime\",\"ToRecipients_cnt\",\"CcRecipients_cnt\",\"BccRecipients_cnt\",col(\"Sender.EmailAddress.Address\").alias(\"Sender\"),\n",
        "                                col(\"BccRecipients.EmailAddress.Address\").alias(\"Recipient\")]) \\\n",
        "                        .withColumn(\"RecipientType\", lit('Bcc')) \\\n",
        "                        .withColumn(\"LoadFolderPath\", lit(inputFolderPath)) \\\n",
        "                        )                \n",
        "    except:\n",
        "        pass\n",
        "\n",
        "    df.write.mode(\"append\").saveAsTable(\"messages_temp\") \n",
        "\n",
        "def get_message_subfolder_files(folder):\n",
        "    children = mssparkutils.fs.ls(folder)\n",
        "    for child in children:\n",
        "        if child.name == 'metadata':\n",
        "            continue\n",
        "        if child.isDir:\n",
        "           get_message_subfolder_files(child.path)\n",
        "        else:       \n",
        "            # try:\n",
        "            load_messages_json_file(child.path)\n",
        "            # except:\n",
        "            #     print(child.path)          "
      ],
      "outputs": [],
      "execution_count": null,
      "metadata": {
        "jupyter": {
          "outputs_hidden": false,
          "source_hidden": false
        },
        "nteract": {
          "transient": {
            "deleting": false
          }
        },
        "collapsed": false
      }
    },
    {
      "cell_type": "code",
      "source": [
        "messagesPath = f\"abfss://{file_system_name}@{data_lake_account_name}.dfs.core.windows.net/o365data/messages\"\n",
        "get_message_subfolder_files(messagesPath)"
      ],
      "outputs": [],
      "execution_count": null,
      "metadata": {
        "jupyter": {
          "outputs_hidden": false,
          "source_hidden": false
        },
        "nteract": {
          "transient": {
            "deleting": false
          }
        }
      }
    },
    {
      "cell_type": "code",
      "source": [
        "sql_str = '''SELECT Id,ConversationId,Subject,to_timestamp(SentDateTime) as SentDateTime,to_date(SentDateTime) as SentDate,\n",
        "lower(Sender) as Sender,lower(Recipient) as Recipient,RType,\n",
        "reverse(split(lower(Sender),'@'))[0] as Sender_Domain,\n",
        "reverse(split(lower(Recipient),'@'))[0] as Recipient_Domain,\n",
        "ToRecipients_cnt, CcRecipients_cnt,BccRecipients_cnt,\n",
        "(ToRecipients_cnt + CcRecipients_cnt + BccRecipients_cnt) as Recipients_cnt\n",
        "FROM messages_temp'''\n",
        "\n",
        "sql_str = sql_str + \" where LoadFolderPath = '\" + inputFolderPath + \"'\" \n",
        "\n",
        "sql_str = sql_str + ' UNION ALL '\n",
        "\n",
        "sql_str = sql_str + '''SELECT Id,ConversationId,Subject,to_timestamp(SentDateTime) as SentDateTime,to_date(SentDateTime) as SentDate,\n",
        "lower(Recipient) as Sender,lower(Sender) as Recipient,RType,\n",
        "reverse(split(lower(Recipient),'@'))[0] as Sender_Domain,\n",
        "reverse(split(lower(Sender),'@'))[0] as Recipient_Domain,\n",
        "ToRecipients_cnt, CcRecipients_cnt,BccRecipients_cnt,\n",
        "(ToRecipients_cnt + CcRecipients_cnt + BccRecipients_cnt) as Recipients_cnt\n",
        "FROM messages_temp'''\n",
        "\n",
        "sql_str = sql_str + \" where LoadFolderPath = '\" + inputFolderPath + \"'\" \n",
        "\n",
        "messagesdata_df = spark.sql(sql_str)\n",
        "messagesdata_df.write.mode(\"append\").saveAsTable(\"messagesdata\")"
      ],
      "outputs": [],
      "execution_count": null,
      "metadata": {
        "jupyter": {
          "outputs_hidden": false,
          "source_hidden": false
        },
        "nteract": {
          "transient": {
            "deleting": false
          }
        }
      }
    }
  ],
  "metadata": {
    "kernelspec": {
      "name": "synapse_pyspark",
      "display_name": "Synapse PySpark"
    },
    "language_info": {
      "name": "python"
    },
    "description": null,
    "save_output": true,
    "synapse_widget": {
      "version": "0.1",
      "state": {}
    }
  },
  "nbformat": 4,
  "nbformat_minor": 2
}