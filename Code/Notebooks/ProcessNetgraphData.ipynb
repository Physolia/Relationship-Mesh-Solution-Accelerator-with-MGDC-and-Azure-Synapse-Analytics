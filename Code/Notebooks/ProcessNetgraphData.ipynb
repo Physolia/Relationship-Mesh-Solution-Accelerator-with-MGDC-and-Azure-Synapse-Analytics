{
  "nbformat": 4,
  "nbformat_minor": 2,
  "metadata": {
    "kernelspec": {
      "name": "synapse_pyspark",
      "display_name": "Synapse PySpark"
    },
    "language_info": {
      "name": "python"
    },
    "description": null,
    "save_output": true,
    "synapse_widget": {
      "version": "0.1",
      "state": {}
    }
  },
  "cells": [
    {
      "cell_type": "code",
      "execution_count": null,
      "outputs": [],
      "metadata": {
        "jupyter": {
          "source_hidden": false,
          "outputs_hidden": false
        },
        "nteract": {
          "transient": {
            "deleting": false
          }
        },
        "collapsed": false
      },
      "source": [
        "sql_str = '''\r\n",
        "select 'Email' as InteractionType, emp.Contact_Id as Seller_Id, emp.Name as Seller, Emp_Title,\r\n",
        "case when b.Contact_Id is not null then 1 else 0 end as PrimaryCaller_Flag,\r\n",
        "c.Account_id, c.Account_Name,c.Contact_Id as ExtContact_Id,\r\n",
        "c.Full_Name__c as ExtContact,Title,Account_Industry_Tier__c,\r\n",
        " EmailMinutes as Duration,Subject,Recipients_cnt as NoOfPeople,to_date(SentDate) as InteractionDate,\r\n",
        " to_date(SentDate) as EmailInteractionDate, Null as MeetingInteractionDate,\r\n",
        " case when year(SentDate) < 2017 then 2017 else year(SentDate) end as InteractionYear, year(current_date) as CurYear,\r\n",
        " case when Recipients_cnt > 10 then 10 else Recipients_cnt end as AdjustedNoOfPeople, Null as location_flag,\r\n",
        " 0.5 as IntercationTypeF, 1 as location_flagF, \r\n",
        "(10 - (case when (year(current_date) - year(SentDate)) > 10 then 10 else  (year(current_date) - year(SentDate)) end))/10 as InteractionYearF\r\n",
        "from \r\n",
        "(\r\n",
        "    SELECT Sender,Recipient, 30 as EmailMinutes, Subject,Recipients_cnt, SentDate\r\n",
        "    FROM messagesdata\r\n",
        ") as e\r\n",
        "inner join \r\n",
        "(select Id as Contact_Id, Name, Title as Emp_Title, lower(Email) as Email from Employee where Email is not null ) as emp on e.Sender = emp.Email\r\n",
        "inner join\r\n",
        "(\r\n",
        "    SELECT Contact_Id, Account_id,Account_Name, Full_Name__c, Email,Title,Account_Industry_Tier__c\r\n",
        "    FROM sellersextcontacts\r\n",
        ") as c on e.Recipient = c.Email \r\n",
        "left join \r\n",
        "(\r\n",
        "    SELECT Contact_Id, Full_Name__c, Email, Account_Id FROM PrimaryCallers where Email is not null\r\n",
        "   --where Contact_Record_Type_Name__c = 'Employee'\r\n",
        ") as b on e.Sender = b.Email and c.Account_id = b.Account_id\r\n",
        "where \r\n",
        "lower(Subject) not like 're:%'\r\n",
        "and Emp_Title in ('Director','Managing Director','Senior Director','Vice President')\r\n",
        "and to_date(SentDate) >= add_months(current_date,-60)\r\n",
        "\r\n",
        "UNION ALL\r\n",
        "\r\n",
        "select 'Meeting' as InteractionType, emp.Contact_Id as Seller_Id, emp.Name as Seller, Emp_Title,\r\n",
        "case when b.Contact_Id is not null then 1 else 0 end as PrimaryCaller_Flag,\r\n",
        "c.Account_id, c.Account_Name,c.Contact_Id as ExtContact_Id,\r\n",
        "c.Full_Name__c as ExtContact,Title,Account_Industry_Tier__c,\r\n",
        " MeetingMinutes as Duration,Subject,Attendees_cnt as NoOfPeople,to_date(StartDate) as InteractionDate,\r\n",
        " Null as EmailInteractionDate, to_date(StartDate) as MeetingInteractionDate,\r\n",
        " case when year(StartDate) < 2017 then 2017 else year(StartDate) end as InteractionYear, year(current_date) as CurYear,\r\n",
        "case when Attendees_cnt > 10 then 10 else Attendees_cnt end as AdjustedNoOfPeople,location_flag,\r\n",
        "1 as IntercationTypeF, case when location_flag = 'Remote' then 0.5 else 1 end as location_flagF, \r\n",
        "(10 - (case when (year(current_date) - year(StartDate)) > 10 then 10 else  (year(current_date) - year(StartDate)) end))/10 as InteractionYearF\r\n",
        "from \r\n",
        "(\r\n",
        "    SELECT Organizer,Attendee,(unix_timestamp(End)-unix_timestamp(Start))/(60) as MeetingMinutes, Subject,Attendees_cnt, Start as StartDate,\r\n",
        "    case when location_flag is null then 'InPerson' else location_flag end as location_flag \r\n",
        "    FROM eventsdata\r\n",
        ") as e\r\n",
        "inner join \r\n",
        "(select Id as Contact_Id, Name, Title as Emp_Title, lower(Email) as Email from employee where Email is not null ) as emp on e.Organizer = emp.Email\r\n",
        "inner join\r\n",
        "(\r\n",
        "    SELECT Contact_Id, Account_id,Account_Name, Full_Name__c, Email,Title,Account_Industry_Tier__c\r\n",
        "    FROM sellersextcontacts\r\n",
        ") as c on e.Attendee = c.Email \r\n",
        "left join \r\n",
        "(\r\n",
        "    SELECT Contact_Id, Full_Name__c, Email, Account_Id FROM PrimaryCallers where Email is not null\r\n",
        "   --where Contact_Record_Type_Name__c = 'Employee'\r\n",
        ") as b on e.Organizer = b.Email and c.Account_id = b.Account_id\r\n",
        "where \r\n",
        "lower(Subject) not like 're:%'\r\n",
        "and Emp_Title in ('Director','Managing Director','Senior Director','Vice President')\r\n",
        "and to_date(StartDate) >= add_months(current_date,-60)\r\n",
        "and to_date(StartDate) <= current_date\r\n",
        "'''\r\n",
        "\r\n",
        "df_interactions = spark.sql(sql_str)\r\n",
        "df_interactions.write.mode(\"overwrite\").saveAsTable(\"interactions\")   "
      ]
    },
    {
      "cell_type": "code",
      "execution_count": null,
      "outputs": [],
      "metadata": {
        "jupyter": {
          "source_hidden": false,
          "outputs_hidden": false
        },
        "nteract": {
          "transient": {
            "deleting": false
          }
        }
      },
      "source": [
        "sql_str = '''select Seller_Id, ExtContact_Id, Account_Id,InteractionType,InteractionDate,\r\n",
        "EmailInteractionDate,MeetingInteractionDate,\r\n",
        "PrimaryCaller_Flag, Emp_Title,\r\n",
        "sum(Duration) as Duration,\r\n",
        "round(sum(Duration * IntercationTypeF * location_flagF * InteractionYearF),2) as AdjustedDuration, \r\n",
        "round(sum(Duration)/60/24,2) as Interaction, \r\n",
        "count(*) as NoOfInteractions from interactions\r\n",
        "where InteractionDate >= add_months(current_date,-60)\r\n",
        "and InteractionDate <= current_date\r\n",
        "group by Seller_Id, ExtContact_Id, Account_Id,InteractionType,InteractionDate,EmailInteractionDate, MeetingInteractionDate, PrimaryCaller_Flag,Emp_Title'''\r\n",
        "\r\n",
        "df_interactionsdata = spark.sql(sql_str)\r\n",
        "df_interactionsdata.write.mode(\"overwrite\").saveAsTable(\"interactionsdata\")"
      ]
    },
    {
      "cell_type": "code",
      "execution_count": null,
      "outputs": [],
      "metadata": {
        "jupyter": {
          "source_hidden": false,
          "outputs_hidden": false
        },
        "nteract": {
          "transient": {
            "deleting": false
          }
        },
        "collapsed": false
      },
      "source": [
        "from pyspark.sql.functions import *\r\n",
        "sql_str = '''select Seller_Id, Account_Id,\r\n",
        "round(sum(Duration * IntercationTypeF * location_flagF * InteractionYearF),2) as AdjustedDuration,\r\n",
        "max(EmailInteractionDate) as LastEmailInteration, max(MeetingInteractionDate) as LastMeetingInteraction,\r\n",
        "datediff(current_date,max(EmailInteractionDate)) as LastEmailInterationDays, \r\n",
        "datediff(current_date,max(MeetingInteractionDate)) as LastMeetingInteractionDays,\r\n",
        "case when datediff(current_date,max(EmailInteractionDate)) < 180 then 0 else 1 end as email_na_flag,\r\n",
        "case when datediff(current_date,max(MeetingInteractionDate)) < 180 then 0 else 1 end as meeting_na_flag,\r\n",
        "case when datediff(current_date,max(MeetingInteractionDate)) < 180 or datediff(current_date,max(MeetingInteractionDate)) < 180 then 0 else 1 end as ineteraction_na_flag\r\n",
        "from\r\n",
        "(\r\n",
        "select Seller_Id, Account_Id,IntercationTypeF,location_flagF, InteractionYearF,Duration,\r\n",
        "case when InteractionType = 'Email' then InteractionDate else null end as EmailInteractionDate,\r\n",
        "case when InteractionType = 'Meeting' then InteractionDate else null end as MeetingInteractionDate\r\n",
        "from interactions\r\n",
        "where PrimaryCaller_Flag = 1\r\n",
        "and InteractionDate <= current_date\r\n",
        "and InteractionDate >= add_months(current_date,-60)\r\n",
        "and Emp_Title in ('Director','Managing Director','Senior Director','Vice President')\r\n",
        ")\r\n",
        "group by Seller_Id, Account_Id'''\r\n",
        "\r\n",
        "df_interactionscores = spark.sql(sql_str)\r\n",
        "max_value=df_interactionscores.agg(max(\"AdjustedDuration\")).collect()[0][0]\r\n",
        "df_interactionscores = df_interactionscores.withColumn(\"MaxValue\",lit(max_value))\r\n",
        "\r\n",
        "df_interactionscores = df_interactionscores.withColumn(\"ImpactScore\", round(col('AdjustedDuration')/col('MaxValue') * 100,2))\r\n",
        "\r\n",
        "df_interactionscores.write.mode(\"overwrite\").saveAsTable(\"impactscores\") "
      ]
    },
    {
      "cell_type": "code",
      "execution_count": null,
      "outputs": [],
      "metadata": {
        "jupyter": {
          "source_hidden": false,
          "outputs_hidden": false
        },
        "nteract": {
          "transient": {
            "deleting": false
          }
        }
      },
      "source": [
        "from pyspark.sql.functions import *\r\n",
        "sql_str = '''\r\n",
        "select acc.Id as Account_Id, 'Met with CEO in last 6 months' as CheckListType, \r\n",
        "case when Flag_Value is null then 0 else Flag_Value end as Flag_Value\r\n",
        "from Account as acc \r\n",
        "left join \r\n",
        "(\r\n",
        "    SELECT\r\n",
        "    a.Id as Account_Id,\r\n",
        "    case when datediff(current_date, max(InteractionDate)) < 180 then 1 else 0 end as Flag_Value\r\n",
        "    FROM  Account as a\r\n",
        "    inner join Interactions as i on a.Id = i.Account_Id\r\n",
        "    inner join Contact as c on i.ExtContact_Id = c.Id\r\n",
        "    where upper(c.Title) like '%CEO%'\r\n",
        "    and a.Tier in ('Tier 0','Tier 1','Tier 2')\r\n",
        "    and InteractionType = 'Meeting'\r\n",
        "    and PrimaryCaller_Flag = 1\r\n",
        "    and InteractionDate >= add_months(current_date,-60)\r\n",
        "    Group BY a.Id\r\n",
        ") as res1 \r\n",
        "on acc.Id = res1.Account_Id\r\n",
        "\r\n",
        "UNION ALL \r\n",
        "\r\n",
        "select acc.Id as Account_Id, 'Met with CFO in last 6 months' as CheckListType, \r\n",
        "case when Flag_Value is null then 0 else Flag_Value end as Flag_Value\r\n",
        "from Account as acc \r\n",
        "left join \r\n",
        "(\r\n",
        "    SELECT\r\n",
        "    a.Id as Account_Id,\r\n",
        "    case when datediff(current_date, max(InteractionDate)) < 180 then 1 else 0 end as Flag_Value\r\n",
        "    FROM  Account as a\r\n",
        "    inner join Interactions as i on a.Id = i.Account_Id\r\n",
        "    inner join Contact as c on i.ExtContact_Id = c.Id\r\n",
        "    where upper(c.Title) like '%CFO%'\r\n",
        "    and a.Tier in ('Tier 0','Tier 1','Tier 2')\r\n",
        "    and InteractionType = 'Meeting'\r\n",
        "    and PrimaryCaller_Flag = 1\r\n",
        "    and InteractionDate >= add_months(current_date,-60)\r\n",
        "    Group BY a.Id\r\n",
        ") as res1 \r\n",
        "on acc.Id = res1.Account_Id\r\n",
        "\r\n",
        "UNION ALL\r\n",
        "\r\n",
        "select acc.Id as Account_Id, 'Met with CIO in last 6 months' as CheckListType, \r\n",
        "case when Flag_Value is null then 0 else Flag_Value end as Flag_Value\r\n",
        "from Account as acc \r\n",
        "left join \r\n",
        "(\r\n",
        "    SELECT\r\n",
        "    a.Id as Account_Id,\r\n",
        "    case when datediff(current_date, max(InteractionDate)) < 180 then 1 else 0 end as Flag_Value\r\n",
        "    FROM  Account as a\r\n",
        "    inner join Interactions as i on a.Id = i.Account_Id\r\n",
        "    inner join Contact as c on i.ExtContact_Id = c.Id\r\n",
        "    where upper(c.Title) like '%CIO%'\r\n",
        "    and a.Tier in ('Tier 0','Tier 1','Tier 2')\r\n",
        "    and InteractionType = 'Meeting'\r\n",
        "    and PrimaryCaller_Flag = 1\r\n",
        "    and InteractionDate >= add_months(current_date,-60)\r\n",
        "    Group BY a.Id\r\n",
        ") as res1 \r\n",
        "on acc.Id = res1.Account_Id\r\n",
        "'''\r\n",
        "\r\n",
        "df_pchecklist = spark.sql(sql_str)\r\n",
        "\r\n",
        "df_pchecklist.write.mode(\"overwrite\").saveAsTable(\"prospectingchecklist\") "
      ]
    }
  ]
}